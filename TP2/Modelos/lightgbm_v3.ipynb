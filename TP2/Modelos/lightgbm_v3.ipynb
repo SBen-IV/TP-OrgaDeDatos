{
 "cells": [
  {
   "cell_type": "code",
   "execution_count": 1,
   "id": "abe151b5",
   "metadata": {},
   "outputs": [],
   "source": [
    "from sklearn.metrics import f1_score\n",
    "import pandas as pd\n",
    "import numpy as np\n",
    "%matplotlib inline\n",
    "import matplotlib.pyplot as plt\n",
    "from sklearn import tree\n",
    "from sklearn.model_selection import train_test_split\n",
    "from sklearn.model_selection import RandomizedSearchCV\n",
    "from sklearn.model_selection import GridSearchCV\n",
    "import lightgbm as lgb"
   ]
  },
  {
   "cell_type": "code",
   "execution_count": 2,
   "id": "2bb20584",
   "metadata": {},
   "outputs": [
    {
     "data": {
      "text/html": [
       "<div>\n",
       "<style scoped>\n",
       "    .dataframe tbody tr th:only-of-type {\n",
       "        vertical-align: middle;\n",
       "    }\n",
       "\n",
       "    .dataframe tbody tr th {\n",
       "        vertical-align: top;\n",
       "    }\n",
       "\n",
       "    .dataframe thead th {\n",
       "        text-align: right;\n",
       "    }\n",
       "</style>\n",
       "<table border=\"1\" class=\"dataframe\">\n",
       "  <thead>\n",
       "    <tr style=\"text-align: right;\">\n",
       "      <th></th>\n",
       "      <th>geo_level_1_id</th>\n",
       "      <th>geo_level_2_id</th>\n",
       "      <th>geo_level_3_id</th>\n",
       "      <th>count_floors_pre_eq</th>\n",
       "      <th>age</th>\n",
       "      <th>area_percentage</th>\n",
       "      <th>height_percentage</th>\n",
       "      <th>has_superstructure_adobe_mud</th>\n",
       "      <th>has_superstructure_mud_mortar_stone</th>\n",
       "      <th>has_superstructure_stone_flag</th>\n",
       "      <th>...</th>\n",
       "      <th>leaf_index_24</th>\n",
       "      <th>leaf_index_25</th>\n",
       "      <th>leaf_index_26</th>\n",
       "      <th>leaf_index_27</th>\n",
       "      <th>leaf_index_28</th>\n",
       "      <th>leaf_index_29</th>\n",
       "      <th>leaf_index_30</th>\n",
       "      <th>leaf_index_31</th>\n",
       "      <th>leaf_index_32</th>\n",
       "      <th>damage_grade</th>\n",
       "    </tr>\n",
       "  </thead>\n",
       "  <tbody>\n",
       "    <tr>\n",
       "      <th>0</th>\n",
       "      <td>6</td>\n",
       "      <td>487</td>\n",
       "      <td>12198</td>\n",
       "      <td>2</td>\n",
       "      <td>30</td>\n",
       "      <td>6</td>\n",
       "      <td>5</td>\n",
       "      <td>1</td>\n",
       "      <td>1</td>\n",
       "      <td>0</td>\n",
       "      <td>...</td>\n",
       "      <td>3807</td>\n",
       "      <td>3852</td>\n",
       "      <td>3194</td>\n",
       "      <td>3623</td>\n",
       "      <td>2900</td>\n",
       "      <td>2988</td>\n",
       "      <td>3417</td>\n",
       "      <td>2637</td>\n",
       "      <td>3231</td>\n",
       "      <td>3</td>\n",
       "    </tr>\n",
       "    <tr>\n",
       "      <th>1</th>\n",
       "      <td>8</td>\n",
       "      <td>900</td>\n",
       "      <td>2812</td>\n",
       "      <td>2</td>\n",
       "      <td>10</td>\n",
       "      <td>8</td>\n",
       "      <td>7</td>\n",
       "      <td>0</td>\n",
       "      <td>1</td>\n",
       "      <td>0</td>\n",
       "      <td>...</td>\n",
       "      <td>1048</td>\n",
       "      <td>3852</td>\n",
       "      <td>2997</td>\n",
       "      <td>650</td>\n",
       "      <td>2901</td>\n",
       "      <td>2994</td>\n",
       "      <td>958</td>\n",
       "      <td>2463</td>\n",
       "      <td>2699</td>\n",
       "      <td>2</td>\n",
       "    </tr>\n",
       "    <tr>\n",
       "      <th>2</th>\n",
       "      <td>21</td>\n",
       "      <td>363</td>\n",
       "      <td>8973</td>\n",
       "      <td>2</td>\n",
       "      <td>10</td>\n",
       "      <td>5</td>\n",
       "      <td>5</td>\n",
       "      <td>0</td>\n",
       "      <td>1</td>\n",
       "      <td>0</td>\n",
       "      <td>...</td>\n",
       "      <td>2969</td>\n",
       "      <td>3876</td>\n",
       "      <td>2959</td>\n",
       "      <td>2857</td>\n",
       "      <td>2899</td>\n",
       "      <td>2969</td>\n",
       "      <td>637</td>\n",
       "      <td>2572</td>\n",
       "      <td>2611</td>\n",
       "      <td>3</td>\n",
       "    </tr>\n",
       "    <tr>\n",
       "      <th>3</th>\n",
       "      <td>22</td>\n",
       "      <td>418</td>\n",
       "      <td>10694</td>\n",
       "      <td>2</td>\n",
       "      <td>10</td>\n",
       "      <td>6</td>\n",
       "      <td>5</td>\n",
       "      <td>0</td>\n",
       "      <td>1</td>\n",
       "      <td>0</td>\n",
       "      <td>...</td>\n",
       "      <td>3540</td>\n",
       "      <td>3876</td>\n",
       "      <td>3014</td>\n",
       "      <td>3314</td>\n",
       "      <td>2899</td>\n",
       "      <td>3172</td>\n",
       "      <td>3209</td>\n",
       "      <td>2600</td>\n",
       "      <td>2828</td>\n",
       "      <td>2</td>\n",
       "    </tr>\n",
       "    <tr>\n",
       "      <th>4</th>\n",
       "      <td>11</td>\n",
       "      <td>131</td>\n",
       "      <td>1488</td>\n",
       "      <td>3</td>\n",
       "      <td>30</td>\n",
       "      <td>8</td>\n",
       "      <td>9</td>\n",
       "      <td>1</td>\n",
       "      <td>0</td>\n",
       "      <td>0</td>\n",
       "      <td>...</td>\n",
       "      <td>2550</td>\n",
       "      <td>3672</td>\n",
       "      <td>3036</td>\n",
       "      <td>1246</td>\n",
       "      <td>2902</td>\n",
       "      <td>2801</td>\n",
       "      <td>798</td>\n",
       "      <td>2987</td>\n",
       "      <td>3195</td>\n",
       "      <td>3</td>\n",
       "    </tr>\n",
       "  </tbody>\n",
       "</table>\n",
       "<p>5 rows × 57 columns</p>\n",
       "</div>"
      ],
      "text/plain": [
       "   geo_level_1_id  geo_level_2_id  geo_level_3_id  count_floors_pre_eq  age  \\\n",
       "0               6             487           12198                    2   30   \n",
       "1               8             900            2812                    2   10   \n",
       "2              21             363            8973                    2   10   \n",
       "3              22             418           10694                    2   10   \n",
       "4              11             131            1488                    3   30   \n",
       "\n",
       "   area_percentage  height_percentage  has_superstructure_adobe_mud  \\\n",
       "0                6                  5                             1   \n",
       "1                8                  7                             0   \n",
       "2                5                  5                             0   \n",
       "3                6                  5                             0   \n",
       "4                8                  9                             1   \n",
       "\n",
       "   has_superstructure_mud_mortar_stone  has_superstructure_stone_flag  ...  \\\n",
       "0                                    1                              0  ...   \n",
       "1                                    1                              0  ...   \n",
       "2                                    1                              0  ...   \n",
       "3                                    1                              0  ...   \n",
       "4                                    0                              0  ...   \n",
       "\n",
       "   leaf_index_24  leaf_index_25  leaf_index_26  leaf_index_27  leaf_index_28  \\\n",
       "0           3807           3852           3194           3623           2900   \n",
       "1           1048           3852           2997            650           2901   \n",
       "2           2969           3876           2959           2857           2899   \n",
       "3           3540           3876           3014           3314           2899   \n",
       "4           2550           3672           3036           1246           2902   \n",
       "\n",
       "   leaf_index_29  leaf_index_30  leaf_index_31  leaf_index_32  damage_grade  \n",
       "0           2988           3417           2637           3231             3  \n",
       "1           2994            958           2463           2699             2  \n",
       "2           2969            637           2572           2611             3  \n",
       "3           3172           3209           2600           2828             2  \n",
       "4           2801            798           2987           3195             3  \n",
       "\n",
       "[5 rows x 57 columns]"
      ]
     },
     "execution_count": 2,
     "metadata": {},
     "output_type": "execute_result"
    }
   ],
   "source": [
    "train = pd.read_csv('../Train/train_set_geo_sum_base_leaf_index_xgb_v5.csv')\n",
    "\n",
    "train.head()"
   ]
  },
  {
   "cell_type": "code",
   "execution_count": 3,
   "id": "af06e047",
   "metadata": {},
   "outputs": [],
   "source": [
    "X, y = train.iloc[:,:-1], train.iloc[:,-1]\n",
    "X_train, X_test, y_train, y_test = train_test_split(X, y, test_size=0.2, random_state=123)"
   ]
  },
  {
   "cell_type": "code",
   "execution_count": 4,
   "id": "9585216c",
   "metadata": {},
   "outputs": [],
   "source": [
    "params = {\n",
    "    'boosting_type': ['gbdt'],\n",
    "    'num_leaves': [10, 20, 30],\n",
    "    'max_depth': [10, 20, 50],\n",
    "    'learning_rate': [0.1, 0.01, 0.5],\n",
    "    'n_estimators': [10, 30, 40],\n",
    "    'objective': ['multiclass'],\n",
    "    'random_state': [123],\n",
    "    'silent': [True],\n",
    "    'force_row_wise': [False],\n",
    "    'force_col_wise': [False]\n",
    "}"
   ]
  },
  {
   "cell_type": "code",
   "execution_count": 5,
   "id": "b9fcc9dc",
   "metadata": {},
   "outputs": [
    {
     "data": {
      "text/plain": [
       "RandomizedSearchCV(cv=10, estimator=LGBMClassifier(), n_iter=81,\n",
       "                   param_distributions={'boosting_type': ['gbdt'],\n",
       "                                        'force_col_wise': [False],\n",
       "                                        'force_row_wise': [False],\n",
       "                                        'learning_rate': [0.1, 0.01, 0.5],\n",
       "                                        'max_depth': [10, 20, 50],\n",
       "                                        'n_estimators': [10, 30, 40],\n",
       "                                        'num_leaves': [10, 20, 30],\n",
       "                                        'objective': ['multiclass'],\n",
       "                                        'random_state': [123],\n",
       "                                        'silent': [True]})"
      ]
     },
     "execution_count": 5,
     "metadata": {},
     "output_type": "execute_result"
    }
   ],
   "source": [
    "opt = RandomizedSearchCV(lgb.LGBMClassifier(), params, cv=10, n_iter=81)\n",
    "opt.fit(X_train, y_train)"
   ]
  },
  {
   "cell_type": "code",
   "execution_count": 6,
   "id": "e19aaceb",
   "metadata": {},
   "outputs": [
    {
     "data": {
      "text/plain": [
       "LGBMClassifier(force_col_wise=False, force_row_wise=False, learning_rate=0.5,\n",
       "               max_depth=10, n_estimators=40, num_leaves=30,\n",
       "               objective='multiclass', random_state=123)"
      ]
     },
     "execution_count": 6,
     "metadata": {},
     "output_type": "execute_result"
    }
   ],
   "source": [
    "opt.best_estimator_"
   ]
  },
  {
   "cell_type": "code",
   "execution_count": 7,
   "id": "b893b8a6",
   "metadata": {},
   "outputs": [
    {
     "name": "stdout",
     "output_type": "stream",
     "text": [
      "F-Mean Score: 0.726694\n"
     ]
    }
   ],
   "source": [
    "preds = opt.predict(X_test)\n",
    "f1 = f1_score(y_test, preds, average='micro')\n",
    "print(\"F-Mean Score: %f\" % (f1))"
   ]
  },
  {
   "cell_type": "code",
   "execution_count": 9,
   "id": "481c65cc",
   "metadata": {},
   "outputs": [],
   "source": [
    "params = {\n",
    "    'boosting_type': ['gbdt'],\n",
    "    'num_leaves': [27, 30, 32],\n",
    "    'max_depth': [8, 10, 15],\n",
    "    'learning_rate': [0.2, 0.4, 0.5],\n",
    "    'n_estimators': [37, 40, 42],\n",
    "    'objective': ['multiclass'],\n",
    "    'random_state': [123],\n",
    "    'silent': [True],\n",
    "    'force_row_wise': [False],\n",
    "    'force_col_wise': [False]\n",
    "}"
   ]
  },
  {
   "cell_type": "code",
   "execution_count": 10,
   "id": "e896dfde",
   "metadata": {},
   "outputs": [
    {
     "data": {
      "text/plain": [
       "RandomizedSearchCV(cv=10, estimator=LGBMClassifier(), n_iter=81,\n",
       "                   param_distributions={'boosting_type': ['gbdt'],\n",
       "                                        'force_col_wise': [False],\n",
       "                                        'force_row_wise': [False],\n",
       "                                        'learning_rate': [0.2, 0.4, 0.5],\n",
       "                                        'max_depth': [8, 10, 15],\n",
       "                                        'n_estimators': [37, 40, 42],\n",
       "                                        'num_leaves': [27, 30, 32],\n",
       "                                        'objective': ['multiclass'],\n",
       "                                        'random_state': [123],\n",
       "                                        'silent': [True]})"
      ]
     },
     "execution_count": 10,
     "metadata": {},
     "output_type": "execute_result"
    }
   ],
   "source": [
    "opt_2 = RandomizedSearchCV(lgb.LGBMClassifier(), params, cv=10, n_iter=81)\n",
    "opt_2.fit(X_train, y_train)"
   ]
  },
  {
   "cell_type": "code",
   "execution_count": 11,
   "id": "83a5db64",
   "metadata": {},
   "outputs": [
    {
     "data": {
      "text/plain": [
       "LGBMClassifier(force_col_wise=False, force_row_wise=False, learning_rate=0.5,\n",
       "               max_depth=10, n_estimators=42, num_leaves=32,\n",
       "               objective='multiclass', random_state=123)"
      ]
     },
     "execution_count": 11,
     "metadata": {},
     "output_type": "execute_result"
    }
   ],
   "source": [
    "opt_2.best_estimator_"
   ]
  },
  {
   "cell_type": "code",
   "execution_count": 12,
   "id": "b6602904",
   "metadata": {},
   "outputs": [
    {
     "name": "stdout",
     "output_type": "stream",
     "text": [
      "F-Mean Score: 0.729418\n"
     ]
    }
   ],
   "source": [
    "preds = opt_2.predict(X_test)\n",
    "f1 = f1_score(y_test, preds, average='micro')\n",
    "print(\"F-Mean Score: %f\" % (f1))"
   ]
  }
 ],
 "metadata": {
  "kernelspec": {
   "display_name": "Python 3.9.3 64-bit",
   "language": "python",
   "name": "python39364bit93f6480a72a64c4f858b7191a2f4e430"
  },
  "language_info": {
   "codemirror_mode": {
    "name": "ipython",
    "version": 3
   },
   "file_extension": ".py",
   "mimetype": "text/x-python",
   "name": "python",
   "nbconvert_exporter": "python",
   "pygments_lexer": "ipython3",
   "version": "3.9.6"
  }
 },
 "nbformat": 4,
 "nbformat_minor": 5
}
