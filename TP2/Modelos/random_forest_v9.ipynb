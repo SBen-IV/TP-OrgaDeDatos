{
 "cells": [
  {
   "cell_type": "code",
   "execution_count": 1,
   "id": "03748e9b",
   "metadata": {},
   "outputs": [],
   "source": [
    "import pandas as pd\n",
    "import numpy as np\n",
    "import matplotlib.pyplot as plt\n",
    "from sklearn.metrics import f1_score\n",
    "from sklearn.model_selection import train_test_split\n",
    "from sklearn.ensemble import RandomForestClassifier\n",
    "from sklearn.model_selection import GridSearchCV\n",
    "from sklearn.model_selection import RandomizedSearchCV\n",
    "import seaborn as sb\n",
    "sb.set(style=\"whitegrid\")"
   ]
  },
  {
   "cell_type": "code",
   "execution_count": 2,
   "id": "7e74ba1c",
   "metadata": {},
   "outputs": [
    {
     "data": {
      "text/html": [
       "<div>\n",
       "<style scoped>\n",
       "    .dataframe tbody tr th:only-of-type {\n",
       "        vertical-align: middle;\n",
       "    }\n",
       "\n",
       "    .dataframe tbody tr th {\n",
       "        vertical-align: top;\n",
       "    }\n",
       "\n",
       "    .dataframe thead th {\n",
       "        text-align: right;\n",
       "    }\n",
       "</style>\n",
       "<table border=\"1\" class=\"dataframe\">\n",
       "  <thead>\n",
       "    <tr style=\"text-align: right;\">\n",
       "      <th></th>\n",
       "      <th>geo_level_1_id</th>\n",
       "      <th>geo_level_2_id</th>\n",
       "      <th>geo_level_3_id</th>\n",
       "      <th>count_floors_pre_eq</th>\n",
       "      <th>age</th>\n",
       "      <th>area_percentage</th>\n",
       "      <th>height_percentage</th>\n",
       "      <th>land_surface_condition</th>\n",
       "      <th>foundation_type</th>\n",
       "      <th>roof_type</th>\n",
       "      <th>...</th>\n",
       "      <th>has_secondary_use_hotel</th>\n",
       "      <th>has_secondary_use_rental</th>\n",
       "      <th>has_secondary_use_institution</th>\n",
       "      <th>has_secondary_use_school</th>\n",
       "      <th>has_secondary_use_industry</th>\n",
       "      <th>has_secondary_use_health_post</th>\n",
       "      <th>has_secondary_use_gov_office</th>\n",
       "      <th>has_secondary_use_use_police</th>\n",
       "      <th>has_secondary_use_other</th>\n",
       "      <th>damage_grade</th>\n",
       "    </tr>\n",
       "  </thead>\n",
       "  <tbody>\n",
       "    <tr>\n",
       "      <th>0</th>\n",
       "      <td>6</td>\n",
       "      <td>487</td>\n",
       "      <td>12198</td>\n",
       "      <td>2</td>\n",
       "      <td>30</td>\n",
       "      <td>6</td>\n",
       "      <td>5</td>\n",
       "      <td>2</td>\n",
       "      <td>2</td>\n",
       "      <td>0</td>\n",
       "      <td>...</td>\n",
       "      <td>0</td>\n",
       "      <td>0</td>\n",
       "      <td>0</td>\n",
       "      <td>0</td>\n",
       "      <td>0</td>\n",
       "      <td>0</td>\n",
       "      <td>0</td>\n",
       "      <td>0</td>\n",
       "      <td>0</td>\n",
       "      <td>3</td>\n",
       "    </tr>\n",
       "    <tr>\n",
       "      <th>1</th>\n",
       "      <td>8</td>\n",
       "      <td>900</td>\n",
       "      <td>2812</td>\n",
       "      <td>2</td>\n",
       "      <td>10</td>\n",
       "      <td>8</td>\n",
       "      <td>7</td>\n",
       "      <td>1</td>\n",
       "      <td>2</td>\n",
       "      <td>0</td>\n",
       "      <td>...</td>\n",
       "      <td>0</td>\n",
       "      <td>0</td>\n",
       "      <td>0</td>\n",
       "      <td>0</td>\n",
       "      <td>0</td>\n",
       "      <td>0</td>\n",
       "      <td>0</td>\n",
       "      <td>0</td>\n",
       "      <td>0</td>\n",
       "      <td>2</td>\n",
       "    </tr>\n",
       "    <tr>\n",
       "      <th>2</th>\n",
       "      <td>21</td>\n",
       "      <td>363</td>\n",
       "      <td>8973</td>\n",
       "      <td>2</td>\n",
       "      <td>10</td>\n",
       "      <td>5</td>\n",
       "      <td>5</td>\n",
       "      <td>2</td>\n",
       "      <td>2</td>\n",
       "      <td>0</td>\n",
       "      <td>...</td>\n",
       "      <td>0</td>\n",
       "      <td>0</td>\n",
       "      <td>0</td>\n",
       "      <td>0</td>\n",
       "      <td>0</td>\n",
       "      <td>0</td>\n",
       "      <td>0</td>\n",
       "      <td>0</td>\n",
       "      <td>0</td>\n",
       "      <td>3</td>\n",
       "    </tr>\n",
       "    <tr>\n",
       "      <th>3</th>\n",
       "      <td>22</td>\n",
       "      <td>418</td>\n",
       "      <td>10694</td>\n",
       "      <td>2</td>\n",
       "      <td>10</td>\n",
       "      <td>6</td>\n",
       "      <td>5</td>\n",
       "      <td>2</td>\n",
       "      <td>2</td>\n",
       "      <td>0</td>\n",
       "      <td>...</td>\n",
       "      <td>0</td>\n",
       "      <td>0</td>\n",
       "      <td>0</td>\n",
       "      <td>0</td>\n",
       "      <td>0</td>\n",
       "      <td>0</td>\n",
       "      <td>0</td>\n",
       "      <td>0</td>\n",
       "      <td>0</td>\n",
       "      <td>2</td>\n",
       "    </tr>\n",
       "    <tr>\n",
       "      <th>4</th>\n",
       "      <td>11</td>\n",
       "      <td>131</td>\n",
       "      <td>1488</td>\n",
       "      <td>3</td>\n",
       "      <td>30</td>\n",
       "      <td>8</td>\n",
       "      <td>9</td>\n",
       "      <td>2</td>\n",
       "      <td>2</td>\n",
       "      <td>0</td>\n",
       "      <td>...</td>\n",
       "      <td>0</td>\n",
       "      <td>0</td>\n",
       "      <td>0</td>\n",
       "      <td>0</td>\n",
       "      <td>0</td>\n",
       "      <td>0</td>\n",
       "      <td>0</td>\n",
       "      <td>0</td>\n",
       "      <td>0</td>\n",
       "      <td>3</td>\n",
       "    </tr>\n",
       "  </tbody>\n",
       "</table>\n",
       "<p>5 rows × 39 columns</p>\n",
       "</div>"
      ],
      "text/plain": [
       "   geo_level_1_id  geo_level_2_id  geo_level_3_id  count_floors_pre_eq  age  \\\n",
       "0               6             487           12198                    2   30   \n",
       "1               8             900            2812                    2   10   \n",
       "2              21             363            8973                    2   10   \n",
       "3              22             418           10694                    2   10   \n",
       "4              11             131            1488                    3   30   \n",
       "\n",
       "   area_percentage  height_percentage  land_surface_condition  \\\n",
       "0                6                  5                       2   \n",
       "1                8                  7                       1   \n",
       "2                5                  5                       2   \n",
       "3                6                  5                       2   \n",
       "4                8                  9                       2   \n",
       "\n",
       "   foundation_type  roof_type  ...  has_secondary_use_hotel  \\\n",
       "0                2          0  ...                        0   \n",
       "1                2          0  ...                        0   \n",
       "2                2          0  ...                        0   \n",
       "3                2          0  ...                        0   \n",
       "4                2          0  ...                        0   \n",
       "\n",
       "   has_secondary_use_rental  has_secondary_use_institution  \\\n",
       "0                         0                              0   \n",
       "1                         0                              0   \n",
       "2                         0                              0   \n",
       "3                         0                              0   \n",
       "4                         0                              0   \n",
       "\n",
       "   has_secondary_use_school  has_secondary_use_industry  \\\n",
       "0                         0                           0   \n",
       "1                         0                           0   \n",
       "2                         0                           0   \n",
       "3                         0                           0   \n",
       "4                         0                           0   \n",
       "\n",
       "   has_secondary_use_health_post  has_secondary_use_gov_office  \\\n",
       "0                              0                             0   \n",
       "1                              0                             0   \n",
       "2                              0                             0   \n",
       "3                              0                             0   \n",
       "4                              0                             0   \n",
       "\n",
       "   has_secondary_use_use_police  has_secondary_use_other  damage_grade  \n",
       "0                             0                        0             3  \n",
       "1                             0                        0             2  \n",
       "2                             0                        0             3  \n",
       "3                             0                        0             2  \n",
       "4                             0                        0             3  \n",
       "\n",
       "[5 rows x 39 columns]"
      ]
     },
     "execution_count": 2,
     "metadata": {},
     "output_type": "execute_result"
    }
   ],
   "source": [
    "train = pd.read_csv('../Train/train_set_idea_v2.csv')\n",
    "\n",
    "train.head()"
   ]
  },
  {
   "cell_type": "code",
   "execution_count": 3,
   "id": "a2bdd5a9",
   "metadata": {},
   "outputs": [],
   "source": [
    "X, y = train.iloc[:,:-1], train.iloc[:,-1]\n",
    "X_train, X_test, y_train, y_test = train_test_split(X, y, test_size=0.3, random_state=1)"
   ]
  },
  {
   "cell_type": "code",
   "execution_count": 4,
   "id": "a74e2958",
   "metadata": {},
   "outputs": [
    {
     "name": "stdout",
     "output_type": "stream",
     "text": [
      "F1 Score 0.7426612604085392\n"
     ]
    }
   ],
   "source": [
    "rf_model = RandomForestClassifier(n_estimators= 300, n_jobs=-1, random_state=300, min_samples_leaf= 2, max_features = 23, max_leaf_nodes = 10000)\n",
    "rf_model.fit(X_train, y_train)\n",
    "preds = rf_model.predict(X_test)\n",
    "f1 = f1_score(y_test, preds, average='micro')\n",
    "print(\"F1 Score\", f1)"
   ]
  },
  {
   "cell_type": "code",
   "execution_count": 5,
   "id": "66ddd4d8",
   "metadata": {},
   "outputs": [
    {
     "data": {
      "image/png": "[encoded data removed]",
      "text/plain": [
       "<Figure size 864x720 with 1 Axes>"
      ]
     },
     "metadata": {},
     "output_type": "display_data"
    }
   ],
   "source": [
    "plt.figure(figsize=(12, 10))\n",
    "sb.barplot(x=X_train.columns, y=rf_model.feature_importances_, palette='Set1')\n",
    "plt.xticks(rotation=90)\n",
    "plt.xlabel('Features')\n",
    "plt.ylabel('Importancia')\n",
    "plt.title('Feature Importance con columnas del mejor modelo')\n",
    "plt.show()"
   ]
  },
  {
   "cell_type": "code",
   "execution_count": 6,
   "id": "f2e45905",
   "metadata": {},
   "outputs": [],
   "source": [
    "X, y = train.iloc[:,:-1], train.iloc[:,-1]\n",
    "X_train, X_test, y_train, y_test = train_test_split(X, y, test_size=0.1, random_state=1)"
   ]
  },
  {
   "cell_type": "code",
   "execution_count": 7,
   "id": "8e6e48e3",
   "metadata": {},
   "outputs": [
    {
     "name": "stdout",
     "output_type": "stream",
     "text": [
      "F1 Score 0.7418364606116418\n"
     ]
    }
   ],
   "source": [
    "rf_model = RandomForestClassifier(n_estimators= 300, n_jobs=-1, random_state=300, min_samples_leaf= 2, max_features = 23, max_leaf_nodes = 10000)\n",
    "rf_model.fit(X_train, y_train)\n",
    "preds = rf_model.predict(X_test)\n",
    "f1 = f1_score(y_test, preds, average='micro')\n",
    "print(\"F1 Score\", f1)"
   ]
  },
  {
   "cell_type": "markdown",
   "id": "3ebeb5d5",
   "metadata": {},
   "source": [
    "### 290 n_estimators"
   ]
  },
  {
   "cell_type": "code",
   "execution_count": 12,
   "id": "41e5ab63",
   "metadata": {},
   "outputs": [
    {
     "name": "stdout",
     "output_type": "stream",
     "text": [
      "F1 Score 0.7423736617934845\n"
     ]
    }
   ],
   "source": [
    "rf_model = RandomForestClassifier(n_estimators= 290, n_jobs=-1, random_state=300, min_samples_leaf= 2, max_features = 23, max_leaf_nodes = 10000)\n",
    "rf_model.fit(X_train, y_train)\n",
    "preds = rf_model.predict(X_test)\n",
    "f1 = f1_score(y_test, preds, average='micro')\n",
    "print(\"F1 Score\", f1)"
   ]
  },
  {
   "cell_type": "code",
   "execution_count": 13,
   "id": "163d33b1",
   "metadata": {},
   "outputs": [
    {
     "name": "stdout",
     "output_type": "stream",
     "text": [
      "F1 Score 0.7413760024557768\n"
     ]
    }
   ],
   "source": [
    "rf_model = RandomForestClassifier(n_estimators= 290, n_jobs=-1, random_state=300, min_samples_leaf= 3, max_features = 23, max_leaf_nodes = 10000)\n",
    "rf_model.fit(X_train, y_train)\n",
    "preds = rf_model.predict(X_test)\n",
    "f1 = f1_score(y_test, preds, average='micro')\n",
    "print(\"F1 Score\", f1)"
   ]
  },
  {
   "cell_type": "code",
   "execution_count": 14,
   "id": "39c17313",
   "metadata": {},
   "outputs": [
    {
     "name": "stdout",
     "output_type": "stream",
     "text": [
      "F1 Score 0.7409539158129005\n"
     ]
    }
   ],
   "source": [
    "rf_model = RandomForestClassifier(n_estimators= 290, n_jobs=-1, random_state=300, min_samples_leaf= 4, max_features = 23, max_leaf_nodes = 10000)\n",
    "rf_model.fit(X_train, y_train)\n",
    "preds = rf_model.predict(X_test)\n",
    "f1 = f1_score(y_test, preds, average='micro')\n",
    "print(\"F1 Score\", f1)"
   ]
  },
  {
   "cell_type": "code",
   "execution_count": 15,
   "id": "5f334035",
   "metadata": {},
   "outputs": [
    {
     "name": "stdout",
     "output_type": "stream",
     "text": [
      "F1 Score 0.7409539158129005\n"
     ]
    }
   ],
   "source": [
    "rf_model = RandomForestClassifier(n_estimators= 290, n_jobs=-1, random_state=300, min_samples_leaf= 3, max_features = 20, max_leaf_nodes = 10000)\n",
    "rf_model.fit(X_train, y_train)\n",
    "preds = rf_model.predict(X_test)\n",
    "f1 = f1_score(y_test, preds, average='micro')\n",
    "print(\"F1 Score\", f1)"
   ]
  },
  {
   "cell_type": "code",
   "execution_count": 16,
   "id": "b51f0a65",
   "metadata": {},
   "outputs": [
    {
     "name": "stdout",
     "output_type": "stream",
     "text": [
      "F1 Score 0.7420283181765857\n"
     ]
    }
   ],
   "source": [
    "rf_model = RandomForestClassifier(n_estimators= 290, n_jobs=-1, random_state=300, min_samples_leaf= 3, max_features = 25, max_leaf_nodes = 10000)\n",
    "rf_model.fit(X_train, y_train)\n",
    "preds = rf_model.predict(X_test)\n",
    "f1 = f1_score(y_test, preds, average='micro')\n",
    "print(\"F1 Score\", f1)"
   ]
  },
  {
   "cell_type": "code",
   "execution_count": 17,
   "id": "8b74f77d",
   "metadata": {},
   "outputs": [
    {
     "name": "stdout",
     "output_type": "stream",
     "text": [
      "F1 Score 0.7403399716050805\n"
     ]
    }
   ],
   "source": [
    "rf_model = RandomForestClassifier(n_estimators= 290, n_jobs=-1, random_state=300, min_samples_leaf= 4, max_features = 20, max_leaf_nodes = 10000)\n",
    "rf_model.fit(X_train, y_train)\n",
    "preds = rf_model.predict(X_test)\n",
    "f1 = f1_score(y_test, preds, average='micro')\n",
    "print(\"F1 Score\", f1)"
   ]
  },
  {
   "cell_type": "code",
   "execution_count": 18,
   "id": "e9ae9cd0",
   "metadata": {},
   "outputs": [
    {
     "name": "stdout",
     "output_type": "stream",
     "text": [
      "F1 Score 0.7414911169947431\n"
     ]
    }
   ],
   "source": [
    "rf_model = RandomForestClassifier(n_estimators= 290, n_jobs=-1, random_state=300, min_samples_leaf= 4, max_features = 25, max_leaf_nodes = 10000)\n",
    "rf_model.fit(X_train, y_train)\n",
    "preds = rf_model.predict(X_test)\n",
    "f1 = f1_score(y_test, preds, average='micro')\n",
    "print(\"F1 Score\", f1)"
   ]
  },
  {
   "cell_type": "markdown",
   "id": "8a919fa7",
   "metadata": {},
   "source": [
    "### 310 n_estimators"
   ]
  },
  {
   "cell_type": "code",
   "execution_count": 19,
   "id": "b4c0c48a",
   "metadata": {},
   "outputs": [
    {
     "name": "stdout",
     "output_type": "stream",
     "text": [
      "F1 Score 0.7417980890986532\n"
     ]
    }
   ],
   "source": [
    "rf_model = RandomForestClassifier(n_estimators= 310, n_jobs=-1, random_state=300, min_samples_leaf= 2, max_features = 23, max_leaf_nodes = 10000)\n",
    "rf_model.fit(X_train, y_train)\n",
    "preds = rf_model.predict(X_test)\n",
    "f1 = f1_score(y_test, preds, average='micro')\n",
    "print(\"F1 Score\", f1)"
   ]
  },
  {
   "cell_type": "code",
   "execution_count": 20,
   "id": "1f5c720e",
   "metadata": {},
   "outputs": [
    {
     "name": "stdout",
     "output_type": "stream",
     "text": [
      "F1 Score 0.7398795134492153\n"
     ]
    }
   ],
   "source": [
    "rf_model = RandomForestClassifier(n_estimators= 310, n_jobs=-1, random_state=300, min_samples_leaf= 2, max_features = 20, max_leaf_nodes = 10000)\n",
    "rf_model.fit(X_train, y_train)\n",
    "preds = rf_model.predict(X_test)\n",
    "f1 = f1_score(y_test, preds, average='micro')\n",
    "print(\"F1 Score\", f1)"
   ]
  },
  {
   "cell_type": "code",
   "execution_count": 21,
   "id": "7ce47dd2",
   "metadata": {},
   "outputs": [
    {
     "name": "stdout",
     "output_type": "stream",
     "text": [
      "F1 Score 0.7419132036376195\n"
     ]
    }
   ],
   "source": [
    "rf_model = RandomForestClassifier(n_estimators= 310, n_jobs=-1, random_state=300, min_samples_leaf= 2, max_features = 25, max_leaf_nodes = 10000)\n",
    "rf_model.fit(X_train, y_train)\n",
    "preds = rf_model.predict(X_test)\n",
    "f1 = f1_score(y_test, preds, average='micro')\n",
    "print(\"F1 Score\", f1)"
   ]
  },
  {
   "cell_type": "code",
   "execution_count": 22,
   "id": "92a6e8ba",
   "metadata": {},
   "outputs": [
    {
     "name": "stdout",
     "output_type": "stream",
     "text": [
      "F1 Score 0.7416062315337095\n"
     ]
    }
   ],
   "source": [
    "rf_model = RandomForestClassifier(n_estimators= 310, n_jobs=-1, random_state=300, min_samples_leaf= 3, max_features = 23, max_leaf_nodes = 10000)\n",
    "rf_model.fit(X_train, y_train)\n",
    "preds = rf_model.predict(X_test)\n",
    "f1 = f1_score(y_test, preds, average='micro')\n",
    "print(\"F1 Score\", f1)"
   ]
  },
  {
   "cell_type": "code",
   "execution_count": 23,
   "id": "22aac4a4",
   "metadata": {},
   "outputs": [
    {
     "name": "stdout",
     "output_type": "stream",
     "text": [
      "F1 Score 0.740877172786923\n"
     ]
    }
   ],
   "source": [
    "rf_model = RandomForestClassifier(n_estimators= 310, n_jobs=-1, random_state=300, min_samples_leaf= 3, max_features = 20, max_leaf_nodes = 10000)\n",
    "rf_model.fit(X_train, y_train)\n",
    "preds = rf_model.predict(X_test)\n",
    "f1 = f1_score(y_test, preds, average='micro')\n",
    "print(\"F1 Score\", f1)"
   ]
  },
  {
   "cell_type": "code",
   "execution_count": 24,
   "id": "57f1c02a",
   "metadata": {},
   "outputs": [
    {
     "name": "stdout",
     "output_type": "stream",
     "text": [
      "F1 Score 0.7421818042285407\n"
     ]
    }
   ],
   "source": [
    "rf_model = RandomForestClassifier(n_estimators= 310, n_jobs=-1, random_state=300, min_samples_leaf= 3, max_features = 25, max_leaf_nodes = 10000)\n",
    "rf_model.fit(X_train, y_train)\n",
    "preds = rf_model.predict(X_test)\n",
    "f1 = f1_score(y_test, preds, average='micro')\n",
    "print(\"F1 Score\", f1)"
   ]
  },
  {
   "cell_type": "code",
   "execution_count": 25,
   "id": "7395237e",
   "metadata": {},
   "outputs": [
    {
     "name": "stdout",
     "output_type": "stream",
     "text": [
      "F1 Score 0.7401864855531254\n"
     ]
    }
   ],
   "source": [
    "rf_model = RandomForestClassifier(n_estimators= 310, n_jobs=-1, random_state=300, min_samples_leaf= 4, max_features = 20, max_leaf_nodes = 10000)\n",
    "rf_model.fit(X_train, y_train)\n",
    "preds = rf_model.predict(X_test)\n",
    "f1 = f1_score(y_test, preds, average='micro')\n",
    "print(\"F1 Score\", f1)"
   ]
  },
  {
   "cell_type": "code",
   "execution_count": 26,
   "id": "3e2f31de",
   "metadata": {},
   "outputs": [
    {
     "name": "stdout",
     "output_type": "stream",
     "text": [
      "F1 Score 0.7408388012739343\n"
     ]
    }
   ],
   "source": [
    "rf_model = RandomForestClassifier(n_estimators= 310, n_jobs=-1, random_state=300, min_samples_leaf= 4, max_features = 23, max_leaf_nodes = 10000)\n",
    "rf_model.fit(X_train, y_train)\n",
    "preds = rf_model.predict(X_test)\n",
    "f1 = f1_score(y_test, preds, average='micro')\n",
    "print(\"F1 Score\", f1)"
   ]
  },
  {
   "cell_type": "code",
   "execution_count": 27,
   "id": "fa4e6c3e",
   "metadata": {},
   "outputs": [
    {
     "name": "stdout",
     "output_type": "stream",
     "text": [
      "F1 Score 0.7411841448908331\n"
     ]
    }
   ],
   "source": [
    "rf_model = RandomForestClassifier(n_estimators= 310, n_jobs=-1, random_state=300, min_samples_leaf= 4, max_features = 25, max_leaf_nodes = 10000)\n",
    "rf_model.fit(X_train, y_train)\n",
    "preds = rf_model.predict(X_test)\n",
    "f1 = f1_score(y_test, preds, average='micro')\n",
    "print(\"F1 Score\", f1)"
   ]
  },
  {
   "cell_type": "markdown",
   "id": "60cc2410",
   "metadata": {},
   "source": [
    "## < 300 n_estimators"
   ]
  },
  {
   "cell_type": "code",
   "execution_count": 28,
   "id": "3a92109b",
   "metadata": {},
   "outputs": [
    {
     "name": "stdout",
     "output_type": "stream",
     "text": [
      "F1 Score 0.7420283181765857\n"
     ]
    }
   ],
   "source": [
    "rf_model = RandomForestClassifier(n_estimators= 280, n_jobs=-1, random_state=300, min_samples_leaf= 2, max_features = 23, max_leaf_nodes = 10000)\n",
    "rf_model.fit(X_train, y_train)\n",
    "preds = rf_model.predict(X_test)\n",
    "f1 = f1_score(y_test, preds, average='micro')\n",
    "print(\"F1 Score\", f1)"
   ]
  },
  {
   "cell_type": "code",
   "execution_count": 29,
   "id": "23961b59",
   "metadata": {},
   "outputs": [
    {
     "name": "stdout",
     "output_type": "stream",
     "text": [
      "F1 Score 0.7422585472545182\n"
     ]
    }
   ],
   "source": [
    "rf_model = RandomForestClassifier(n_estimators= 270, n_jobs=-1, random_state=300, min_samples_leaf= 2, max_features = 23, max_leaf_nodes = 10000)\n",
    "rf_model.fit(X_train, y_train)\n",
    "preds = rf_model.predict(X_test)\n",
    "f1 = f1_score(y_test, preds, average='micro')\n",
    "print(\"F1 Score\", f1)"
   ]
  },
  {
   "cell_type": "code",
   "execution_count": 30,
   "id": "038c3a21",
   "metadata": {},
   "outputs": [
    {
     "name": "stdout",
     "output_type": "stream",
     "text": [
      "F1 Score 0.7419515751506082\n"
     ]
    }
   ],
   "source": [
    "rf_model = RandomForestClassifier(n_estimators= 250, n_jobs=-1, random_state=300, min_samples_leaf= 2, max_features = 23, max_leaf_nodes = 10000)\n",
    "rf_model.fit(X_train, y_train)\n",
    "preds = rf_model.predict(X_test)\n",
    "f1 = f1_score(y_test, preds, average='micro')\n",
    "print(\"F1 Score\", f1)"
   ]
  },
  {
   "cell_type": "markdown",
   "id": "3a47189a",
   "metadata": {},
   "source": [
    "## Modelo elegido"
   ]
  },
  {
   "cell_type": "code",
   "execution_count": 31,
   "id": "a46a75f3",
   "metadata": {},
   "outputs": [
    {
     "name": "stdout",
     "output_type": "stream",
     "text": [
      "F1 Score 0.7422585472545182\n"
     ]
    }
   ],
   "source": [
    "rf_model = RandomForestClassifier(n_estimators= 270, n_jobs=-1, random_state=300, min_samples_leaf= 2, max_features = 23, max_leaf_nodes = 10000)\n",
    "rf_model.fit(X_train, y_train)\n",
    "preds = rf_model.predict(X_test)\n",
    "f1 = f1_score(y_test, preds, average='micro')\n",
    "print(\"F1 Score\", f1)"
   ]
  },
  {
   "cell_type": "markdown",
   "id": "90eb308f",
   "metadata": {},
   "source": [
    "## Test"
   ]
  },
  {
   "cell_type": "code",
   "execution_count": 34,
   "id": "3aaa7660",
   "metadata": {},
   "outputs": [
    {
     "data": {
      "text/html": [
       "<div>\n",
       "<style scoped>\n",
       "    .dataframe tbody tr th:only-of-type {\n",
       "        vertical-align: middle;\n",
       "    }\n",
       "\n",
       "    .dataframe tbody tr th {\n",
       "        vertical-align: top;\n",
       "    }\n",
       "\n",
       "    .dataframe thead th {\n",
       "        text-align: right;\n",
       "    }\n",
       "</style>\n",
       "<table border=\"1\" class=\"dataframe\">\n",
       "  <thead>\n",
       "    <tr style=\"text-align: right;\">\n",
       "      <th></th>\n",
       "      <th>building_id</th>\n",
       "      <th>geo_level_1_id</th>\n",
       "      <th>geo_level_2_id</th>\n",
       "      <th>geo_level_3_id</th>\n",
       "      <th>count_floors_pre_eq</th>\n",
       "      <th>age</th>\n",
       "      <th>area_percentage</th>\n",
       "      <th>height_percentage</th>\n",
       "      <th>land_surface_condition</th>\n",
       "      <th>foundation_type</th>\n",
       "      <th>...</th>\n",
       "      <th>has_secondary_use_agriculture</th>\n",
       "      <th>has_secondary_use_hotel</th>\n",
       "      <th>has_secondary_use_rental</th>\n",
       "      <th>has_secondary_use_institution</th>\n",
       "      <th>has_secondary_use_school</th>\n",
       "      <th>has_secondary_use_industry</th>\n",
       "      <th>has_secondary_use_health_post</th>\n",
       "      <th>has_secondary_use_gov_office</th>\n",
       "      <th>has_secondary_use_use_police</th>\n",
       "      <th>has_secondary_use_other</th>\n",
       "    </tr>\n",
       "  </thead>\n",
       "  <tbody>\n",
       "    <tr>\n",
       "      <th>0</th>\n",
       "      <td>300051</td>\n",
       "      <td>17</td>\n",
       "      <td>596</td>\n",
       "      <td>11307</td>\n",
       "      <td>3</td>\n",
       "      <td>20</td>\n",
       "      <td>7</td>\n",
       "      <td>6</td>\n",
       "      <td>2</td>\n",
       "      <td>2</td>\n",
       "      <td>...</td>\n",
       "      <td>0</td>\n",
       "      <td>0</td>\n",
       "      <td>0</td>\n",
       "      <td>0</td>\n",
       "      <td>0</td>\n",
       "      <td>0</td>\n",
       "      <td>0</td>\n",
       "      <td>0</td>\n",
       "      <td>0</td>\n",
       "      <td>0</td>\n",
       "    </tr>\n",
       "    <tr>\n",
       "      <th>1</th>\n",
       "      <td>99355</td>\n",
       "      <td>6</td>\n",
       "      <td>141</td>\n",
       "      <td>11987</td>\n",
       "      <td>2</td>\n",
       "      <td>25</td>\n",
       "      <td>13</td>\n",
       "      <td>5</td>\n",
       "      <td>2</td>\n",
       "      <td>2</td>\n",
       "      <td>...</td>\n",
       "      <td>1</td>\n",
       "      <td>0</td>\n",
       "      <td>0</td>\n",
       "      <td>0</td>\n",
       "      <td>0</td>\n",
       "      <td>0</td>\n",
       "      <td>0</td>\n",
       "      <td>0</td>\n",
       "      <td>0</td>\n",
       "      <td>0</td>\n",
       "    </tr>\n",
       "    <tr>\n",
       "      <th>2</th>\n",
       "      <td>890251</td>\n",
       "      <td>22</td>\n",
       "      <td>19</td>\n",
       "      <td>10044</td>\n",
       "      <td>2</td>\n",
       "      <td>5</td>\n",
       "      <td>4</td>\n",
       "      <td>5</td>\n",
       "      <td>2</td>\n",
       "      <td>2</td>\n",
       "      <td>...</td>\n",
       "      <td>0</td>\n",
       "      <td>0</td>\n",
       "      <td>0</td>\n",
       "      <td>0</td>\n",
       "      <td>0</td>\n",
       "      <td>0</td>\n",
       "      <td>0</td>\n",
       "      <td>0</td>\n",
       "      <td>0</td>\n",
       "      <td>0</td>\n",
       "    </tr>\n",
       "    <tr>\n",
       "      <th>3</th>\n",
       "      <td>745817</td>\n",
       "      <td>26</td>\n",
       "      <td>39</td>\n",
       "      <td>633</td>\n",
       "      <td>1</td>\n",
       "      <td>0</td>\n",
       "      <td>19</td>\n",
       "      <td>3</td>\n",
       "      <td>2</td>\n",
       "      <td>2</td>\n",
       "      <td>...</td>\n",
       "      <td>0</td>\n",
       "      <td>0</td>\n",
       "      <td>1</td>\n",
       "      <td>0</td>\n",
       "      <td>0</td>\n",
       "      <td>0</td>\n",
       "      <td>0</td>\n",
       "      <td>0</td>\n",
       "      <td>0</td>\n",
       "      <td>0</td>\n",
       "    </tr>\n",
       "    <tr>\n",
       "      <th>4</th>\n",
       "      <td>421793</td>\n",
       "      <td>17</td>\n",
       "      <td>289</td>\n",
       "      <td>7970</td>\n",
       "      <td>3</td>\n",
       "      <td>15</td>\n",
       "      <td>8</td>\n",
       "      <td>7</td>\n",
       "      <td>2</td>\n",
       "      <td>2</td>\n",
       "      <td>...</td>\n",
       "      <td>0</td>\n",
       "      <td>0</td>\n",
       "      <td>0</td>\n",
       "      <td>0</td>\n",
       "      <td>0</td>\n",
       "      <td>0</td>\n",
       "      <td>0</td>\n",
       "      <td>0</td>\n",
       "      <td>0</td>\n",
       "      <td>0</td>\n",
       "    </tr>\n",
       "  </tbody>\n",
       "</table>\n",
       "<p>5 rows × 39 columns</p>\n",
       "</div>"
      ],
      "text/plain": [
       "   building_id  geo_level_1_id  geo_level_2_id  geo_level_3_id  \\\n",
       "0       300051              17             596           11307   \n",
       "1        99355               6             141           11987   \n",
       "2       890251              22              19           10044   \n",
       "3       745817              26              39             633   \n",
       "4       421793              17             289            7970   \n",
       "\n",
       "   count_floors_pre_eq  age  area_percentage  height_percentage  \\\n",
       "0                    3   20                7                  6   \n",
       "1                    2   25               13                  5   \n",
       "2                    2    5                4                  5   \n",
       "3                    1    0               19                  3   \n",
       "4                    3   15                8                  7   \n",
       "\n",
       "   land_surface_condition  foundation_type  ...  \\\n",
       "0                       2                2  ...   \n",
       "1                       2                2  ...   \n",
       "2                       2                2  ...   \n",
       "3                       2                2  ...   \n",
       "4                       2                2  ...   \n",
       "\n",
       "   has_secondary_use_agriculture  has_secondary_use_hotel  \\\n",
       "0                              0                        0   \n",
       "1                              1                        0   \n",
       "2                              0                        0   \n",
       "3                              0                        0   \n",
       "4                              0                        0   \n",
       "\n",
       "   has_secondary_use_rental  has_secondary_use_institution  \\\n",
       "0                         0                              0   \n",
       "1                         0                              0   \n",
       "2                         0                              0   \n",
       "3                         1                              0   \n",
       "4                         0                              0   \n",
       "\n",
       "   has_secondary_use_school  has_secondary_use_industry  \\\n",
       "0                         0                           0   \n",
       "1                         0                           0   \n",
       "2                         0                           0   \n",
       "3                         0                           0   \n",
       "4                         0                           0   \n",
       "\n",
       "   has_secondary_use_health_post  has_secondary_use_gov_office  \\\n",
       "0                              0                             0   \n",
       "1                              0                             0   \n",
       "2                              0                             0   \n",
       "3                              0                             0   \n",
       "4                              0                             0   \n",
       "\n",
       "   has_secondary_use_use_police  has_secondary_use_other  \n",
       "0                             0                        0  \n",
       "1                             0                        0  \n",
       "2                             0                        0  \n",
       "3                             0                        0  \n",
       "4                             0                        0  \n",
       "\n",
       "[5 rows x 39 columns]"
      ]
     },
     "execution_count": 34,
     "metadata": {},
     "output_type": "execute_result"
    }
   ],
   "source": [
    "test = pd.read_csv('../Test/test_set_idea_v2.csv')\n",
    "\n",
    "test.head()"
   ]
  },
  {
   "cell_type": "code",
   "execution_count": 35,
   "id": "974cf5be",
   "metadata": {},
   "outputs": [
    {
     "data": {
      "text/html": [
       "<div>\n",
       "<style scoped>\n",
       "    .dataframe tbody tr th:only-of-type {\n",
       "        vertical-align: middle;\n",
       "    }\n",
       "\n",
       "    .dataframe tbody tr th {\n",
       "        vertical-align: top;\n",
       "    }\n",
       "\n",
       "    .dataframe thead th {\n",
       "        text-align: right;\n",
       "    }\n",
       "</style>\n",
       "<table border=\"1\" class=\"dataframe\">\n",
       "  <thead>\n",
       "    <tr style=\"text-align: right;\">\n",
       "      <th></th>\n",
       "      <th>geo_level_1_id</th>\n",
       "      <th>geo_level_2_id</th>\n",
       "      <th>geo_level_3_id</th>\n",
       "      <th>count_floors_pre_eq</th>\n",
       "      <th>age</th>\n",
       "      <th>area_percentage</th>\n",
       "      <th>height_percentage</th>\n",
       "      <th>land_surface_condition</th>\n",
       "      <th>foundation_type</th>\n",
       "      <th>roof_type</th>\n",
       "      <th>...</th>\n",
       "      <th>has_secondary_use_agriculture</th>\n",
       "      <th>has_secondary_use_hotel</th>\n",
       "      <th>has_secondary_use_rental</th>\n",
       "      <th>has_secondary_use_institution</th>\n",
       "      <th>has_secondary_use_school</th>\n",
       "      <th>has_secondary_use_industry</th>\n",
       "      <th>has_secondary_use_health_post</th>\n",
       "      <th>has_secondary_use_gov_office</th>\n",
       "      <th>has_secondary_use_use_police</th>\n",
       "      <th>has_secondary_use_other</th>\n",
       "    </tr>\n",
       "  </thead>\n",
       "  <tbody>\n",
       "    <tr>\n",
       "      <th>0</th>\n",
       "      <td>17</td>\n",
       "      <td>596</td>\n",
       "      <td>11307</td>\n",
       "      <td>3</td>\n",
       "      <td>20</td>\n",
       "      <td>7</td>\n",
       "      <td>6</td>\n",
       "      <td>2</td>\n",
       "      <td>2</td>\n",
       "      <td>0</td>\n",
       "      <td>...</td>\n",
       "      <td>0</td>\n",
       "      <td>0</td>\n",
       "      <td>0</td>\n",
       "      <td>0</td>\n",
       "      <td>0</td>\n",
       "      <td>0</td>\n",
       "      <td>0</td>\n",
       "      <td>0</td>\n",
       "      <td>0</td>\n",
       "      <td>0</td>\n",
       "    </tr>\n",
       "    <tr>\n",
       "      <th>1</th>\n",
       "      <td>6</td>\n",
       "      <td>141</td>\n",
       "      <td>11987</td>\n",
       "      <td>2</td>\n",
       "      <td>25</td>\n",
       "      <td>13</td>\n",
       "      <td>5</td>\n",
       "      <td>2</td>\n",
       "      <td>2</td>\n",
       "      <td>0</td>\n",
       "      <td>...</td>\n",
       "      <td>1</td>\n",
       "      <td>0</td>\n",
       "      <td>0</td>\n",
       "      <td>0</td>\n",
       "      <td>0</td>\n",
       "      <td>0</td>\n",
       "      <td>0</td>\n",
       "      <td>0</td>\n",
       "      <td>0</td>\n",
       "      <td>0</td>\n",
       "    </tr>\n",
       "    <tr>\n",
       "      <th>2</th>\n",
       "      <td>22</td>\n",
       "      <td>19</td>\n",
       "      <td>10044</td>\n",
       "      <td>2</td>\n",
       "      <td>5</td>\n",
       "      <td>4</td>\n",
       "      <td>5</td>\n",
       "      <td>2</td>\n",
       "      <td>2</td>\n",
       "      <td>0</td>\n",
       "      <td>...</td>\n",
       "      <td>0</td>\n",
       "      <td>0</td>\n",
       "      <td>0</td>\n",
       "      <td>0</td>\n",
       "      <td>0</td>\n",
       "      <td>0</td>\n",
       "      <td>0</td>\n",
       "      <td>0</td>\n",
       "      <td>0</td>\n",
       "      <td>0</td>\n",
       "    </tr>\n",
       "    <tr>\n",
       "      <th>3</th>\n",
       "      <td>26</td>\n",
       "      <td>39</td>\n",
       "      <td>633</td>\n",
       "      <td>1</td>\n",
       "      <td>0</td>\n",
       "      <td>19</td>\n",
       "      <td>3</td>\n",
       "      <td>2</td>\n",
       "      <td>2</td>\n",
       "      <td>2</td>\n",
       "      <td>...</td>\n",
       "      <td>0</td>\n",
       "      <td>0</td>\n",
       "      <td>1</td>\n",
       "      <td>0</td>\n",
       "      <td>0</td>\n",
       "      <td>0</td>\n",
       "      <td>0</td>\n",
       "      <td>0</td>\n",
       "      <td>0</td>\n",
       "      <td>0</td>\n",
       "    </tr>\n",
       "    <tr>\n",
       "      <th>4</th>\n",
       "      <td>17</td>\n",
       "      <td>289</td>\n",
       "      <td>7970</td>\n",
       "      <td>3</td>\n",
       "      <td>15</td>\n",
       "      <td>8</td>\n",
       "      <td>7</td>\n",
       "      <td>2</td>\n",
       "      <td>2</td>\n",
       "      <td>1</td>\n",
       "      <td>...</td>\n",
       "      <td>0</td>\n",
       "      <td>0</td>\n",
       "      <td>0</td>\n",
       "      <td>0</td>\n",
       "      <td>0</td>\n",
       "      <td>0</td>\n",
       "      <td>0</td>\n",
       "      <td>0</td>\n",
       "      <td>0</td>\n",
       "      <td>0</td>\n",
       "    </tr>\n",
       "  </tbody>\n",
       "</table>\n",
       "<p>5 rows × 38 columns</p>\n",
       "</div>"
      ],
      "text/plain": [
       "   geo_level_1_id  geo_level_2_id  geo_level_3_id  count_floors_pre_eq  age  \\\n",
       "0              17             596           11307                    3   20   \n",
       "1               6             141           11987                    2   25   \n",
       "2              22              19           10044                    2    5   \n",
       "3              26              39             633                    1    0   \n",
       "4              17             289            7970                    3   15   \n",
       "\n",
       "   area_percentage  height_percentage  land_surface_condition  \\\n",
       "0                7                  6                       2   \n",
       "1               13                  5                       2   \n",
       "2                4                  5                       2   \n",
       "3               19                  3                       2   \n",
       "4                8                  7                       2   \n",
       "\n",
       "   foundation_type  roof_type  ...  has_secondary_use_agriculture  \\\n",
       "0                2          0  ...                              0   \n",
       "1                2          0  ...                              1   \n",
       "2                2          0  ...                              0   \n",
       "3                2          2  ...                              0   \n",
       "4                2          1  ...                              0   \n",
       "\n",
       "   has_secondary_use_hotel  has_secondary_use_rental  \\\n",
       "0                        0                         0   \n",
       "1                        0                         0   \n",
       "2                        0                         0   \n",
       "3                        0                         1   \n",
       "4                        0                         0   \n",
       "\n",
       "   has_secondary_use_institution  has_secondary_use_school  \\\n",
       "0                              0                         0   \n",
       "1                              0                         0   \n",
       "2                              0                         0   \n",
       "3                              0                         0   \n",
       "4                              0                         0   \n",
       "\n",
       "   has_secondary_use_industry  has_secondary_use_health_post  \\\n",
       "0                           0                              0   \n",
       "1                           0                              0   \n",
       "2                           0                              0   \n",
       "3                           0                              0   \n",
       "4                           0                              0   \n",
       "\n",
       "   has_secondary_use_gov_office  has_secondary_use_use_police  \\\n",
       "0                             0                             0   \n",
       "1                             0                             0   \n",
       "2                             0                             0   \n",
       "3                             0                             0   \n",
       "4                             0                             0   \n",
       "\n",
       "   has_secondary_use_other  \n",
       "0                        0  \n",
       "1                        0  \n",
       "2                        0  \n",
       "3                        0  \n",
       "4                        0  \n",
       "\n",
       "[5 rows x 38 columns]"
      ]
     },
     "execution_count": 35,
     "metadata": {},
     "output_type": "execute_result"
    }
   ],
   "source": [
    "ids = test['building_id']\n",
    "\n",
    "test.drop('building_id', axis='columns', inplace=True)\n",
    "\n",
    "test.head()"
   ]
  },
  {
   "cell_type": "code",
   "execution_count": 36,
   "id": "e1497882",
   "metadata": {},
   "outputs": [],
   "source": [
    "preds = rf_model.predict(test)"
   ]
  },
  {
   "cell_type": "code",
   "execution_count": 37,
   "id": "eefaced3",
   "metadata": {},
   "outputs": [
    {
     "data": {
      "text/html": [
       "<div>\n",
       "<style scoped>\n",
       "    .dataframe tbody tr th:only-of-type {\n",
       "        vertical-align: middle;\n",
       "    }\n",
       "\n",
       "    .dataframe tbody tr th {\n",
       "        vertical-align: top;\n",
       "    }\n",
       "\n",
       "    .dataframe thead th {\n",
       "        text-align: right;\n",
       "    }\n",
       "</style>\n",
       "<table border=\"1\" class=\"dataframe\">\n",
       "  <thead>\n",
       "    <tr style=\"text-align: right;\">\n",
       "      <th></th>\n",
       "      <th>building_id</th>\n",
       "      <th>damage_grade</th>\n",
       "    </tr>\n",
       "  </thead>\n",
       "  <tbody>\n",
       "    <tr>\n",
       "      <th>0</th>\n",
       "      <td>300051</td>\n",
       "      <td>3</td>\n",
       "    </tr>\n",
       "    <tr>\n",
       "      <th>1</th>\n",
       "      <td>99355</td>\n",
       "      <td>2</td>\n",
       "    </tr>\n",
       "    <tr>\n",
       "      <th>2</th>\n",
       "      <td>890251</td>\n",
       "      <td>2</td>\n",
       "    </tr>\n",
       "    <tr>\n",
       "      <th>3</th>\n",
       "      <td>745817</td>\n",
       "      <td>1</td>\n",
       "    </tr>\n",
       "    <tr>\n",
       "      <th>4</th>\n",
       "      <td>421793</td>\n",
       "      <td>3</td>\n",
       "    </tr>\n",
       "  </tbody>\n",
       "</table>\n",
       "</div>"
      ],
      "text/plain": [
       "   building_id  damage_grade\n",
       "0       300051             3\n",
       "1        99355             2\n",
       "2       890251             2\n",
       "3       745817             1\n",
       "4       421793             3"
      ]
     },
     "execution_count": 37,
     "metadata": {},
     "output_type": "execute_result"
    }
   ],
   "source": [
    "test['damage_grade'] = preds\n",
    "test['building_id'] = ids\n",
    "\n",
    "result = test[['building_id', 'damage_grade']]\n",
    "\n",
    "result.head()"
   ]
  },
  {
   "cell_type": "code",
   "execution_count": 38,
   "id": "abd21680",
   "metadata": {},
   "outputs": [],
   "source": [
    "result.to_csv('../preds_rf_v9.csv', index=False)"
   ]
  }
 ],
 "metadata": {
  "kernelspec": {
   "display_name": "Python 3.9.3 64-bit",
   "language": "python",
   "name": "python39364bit93f6480a72a64c4f858b7191a2f4e430"
  },
  "language_info": {
   "codemirror_mode": {
    "name": "ipython",
    "version": 3
   },
   "file_extension": ".py",
   "mimetype": "text/x-python",
   "name": "python",
   "nbconvert_exporter": "python",
   "pygments_lexer": "ipython3",
   "version": "3.9.6"
  }
 },
 "nbformat": 4,
 "nbformat_minor": 5
}
