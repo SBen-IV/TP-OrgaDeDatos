{
 "cells": [
  {
   "cell_type": "code",
   "execution_count": 1,
   "id": "cd84ff0c",
   "metadata": {},
   "outputs": [],
   "source": [
    "from sklearn.metrics import f1_score\n",
    "import pandas as pd\n",
    "import numpy as np\n",
    "%matplotlib inline\n",
    "import matplotlib.pyplot as plt\n",
    "from sklearn import tree\n",
    "from sklearn.model_selection import train_test_split\n",
    "from sklearn.model_selection import RandomizedSearchCV\n",
    "from sklearn.model_selection import GridSearchCV\n",
    "import lightgbm as lgb"
   ]
  },
  {
   "cell_type": "code",
   "execution_count": 3,
   "id": "06c34fb8",
   "metadata": {},
   "outputs": [
    {
     "data": {
      "text/html": [
       "<div>\n",
       "<style scoped>\n",
       "    .dataframe tbody tr th:only-of-type {\n",
       "        vertical-align: middle;\n",
       "    }\n",
       "\n",
       "    .dataframe tbody tr th {\n",
       "        vertical-align: top;\n",
       "    }\n",
       "\n",
       "    .dataframe thead th {\n",
       "        text-align: right;\n",
       "    }\n",
       "</style>\n",
       "<table border=\"1\" class=\"dataframe\">\n",
       "  <thead>\n",
       "    <tr style=\"text-align: right;\">\n",
       "      <th></th>\n",
       "      <th>geo_level_1_id</th>\n",
       "      <th>geo_level_2_id</th>\n",
       "      <th>geo_level_3_id</th>\n",
       "      <th>count_floors_pre_eq</th>\n",
       "      <th>age</th>\n",
       "      <th>area_percentage</th>\n",
       "      <th>height_percentage</th>\n",
       "      <th>has_superstructure_adobe_mud</th>\n",
       "      <th>has_superstructure_mud_mortar_stone</th>\n",
       "      <th>has_superstructure_stone_flag</th>\n",
       "      <th>...</th>\n",
       "      <th>has_superstructure_rc_non_engineered</th>\n",
       "      <th>has_superstructure_rc_engineered</th>\n",
       "      <th>has_superstructure_other</th>\n",
       "      <th>count_families</th>\n",
       "      <th>geo_level_1_id_sum</th>\n",
       "      <th>geo_level_2_id_sum</th>\n",
       "      <th>geo_level_3_id_sum</th>\n",
       "      <th>geo_level_1_per_mud_mortar_stone</th>\n",
       "      <th>geo_level_1_sum_per_mud_mortar_stone</th>\n",
       "      <th>damage_grade</th>\n",
       "    </tr>\n",
       "  </thead>\n",
       "  <tbody>\n",
       "    <tr>\n",
       "      <th>0</th>\n",
       "      <td>6</td>\n",
       "      <td>487</td>\n",
       "      <td>12198</td>\n",
       "      <td>2</td>\n",
       "      <td>30</td>\n",
       "      <td>6</td>\n",
       "      <td>5</td>\n",
       "      <td>1</td>\n",
       "      <td>1</td>\n",
       "      <td>0</td>\n",
       "      <td>...</td>\n",
       "      <td>0</td>\n",
       "      <td>0</td>\n",
       "      <td>0</td>\n",
       "      <td>1</td>\n",
       "      <td>24381</td>\n",
       "      <td>270</td>\n",
       "      <td>37</td>\n",
       "      <td>6</td>\n",
       "      <td>24381</td>\n",
       "      <td>3</td>\n",
       "    </tr>\n",
       "    <tr>\n",
       "      <th>1</th>\n",
       "      <td>8</td>\n",
       "      <td>900</td>\n",
       "      <td>2812</td>\n",
       "      <td>2</td>\n",
       "      <td>10</td>\n",
       "      <td>8</td>\n",
       "      <td>7</td>\n",
       "      <td>0</td>\n",
       "      <td>1</td>\n",
       "      <td>0</td>\n",
       "      <td>...</td>\n",
       "      <td>0</td>\n",
       "      <td>0</td>\n",
       "      <td>0</td>\n",
       "      <td>1</td>\n",
       "      <td>19080</td>\n",
       "      <td>199</td>\n",
       "      <td>16</td>\n",
       "      <td>8</td>\n",
       "      <td>19080</td>\n",
       "      <td>2</td>\n",
       "    </tr>\n",
       "    <tr>\n",
       "      <th>2</th>\n",
       "      <td>21</td>\n",
       "      <td>363</td>\n",
       "      <td>8973</td>\n",
       "      <td>2</td>\n",
       "      <td>10</td>\n",
       "      <td>5</td>\n",
       "      <td>5</td>\n",
       "      <td>0</td>\n",
       "      <td>1</td>\n",
       "      <td>0</td>\n",
       "      <td>...</td>\n",
       "      <td>0</td>\n",
       "      <td>0</td>\n",
       "      <td>0</td>\n",
       "      <td>1</td>\n",
       "      <td>14889</td>\n",
       "      <td>1760</td>\n",
       "      <td>136</td>\n",
       "      <td>21</td>\n",
       "      <td>14889</td>\n",
       "      <td>3</td>\n",
       "    </tr>\n",
       "    <tr>\n",
       "      <th>3</th>\n",
       "      <td>22</td>\n",
       "      <td>418</td>\n",
       "      <td>10694</td>\n",
       "      <td>2</td>\n",
       "      <td>10</td>\n",
       "      <td>6</td>\n",
       "      <td>5</td>\n",
       "      <td>0</td>\n",
       "      <td>1</td>\n",
       "      <td>0</td>\n",
       "      <td>...</td>\n",
       "      <td>0</td>\n",
       "      <td>0</td>\n",
       "      <td>0</td>\n",
       "      <td>1</td>\n",
       "      <td>6252</td>\n",
       "      <td>205</td>\n",
       "      <td>31</td>\n",
       "      <td>22</td>\n",
       "      <td>6252</td>\n",
       "      <td>2</td>\n",
       "    </tr>\n",
       "    <tr>\n",
       "      <th>4</th>\n",
       "      <td>11</td>\n",
       "      <td>131</td>\n",
       "      <td>1488</td>\n",
       "      <td>3</td>\n",
       "      <td>30</td>\n",
       "      <td>8</td>\n",
       "      <td>9</td>\n",
       "      <td>1</td>\n",
       "      <td>0</td>\n",
       "      <td>0</td>\n",
       "      <td>...</td>\n",
       "      <td>0</td>\n",
       "      <td>0</td>\n",
       "      <td>0</td>\n",
       "      <td>1</td>\n",
       "      <td>8220</td>\n",
       "      <td>1038</td>\n",
       "      <td>122</td>\n",
       "      <td>0</td>\n",
       "      <td>0</td>\n",
       "      <td>3</td>\n",
       "    </tr>\n",
       "  </tbody>\n",
       "</table>\n",
       "<p>5 rows × 25 columns</p>\n",
       "</div>"
      ],
      "text/plain": [
       "   geo_level_1_id  geo_level_2_id  geo_level_3_id  count_floors_pre_eq  age  \\\n",
       "0               6             487           12198                    2   30   \n",
       "1               8             900            2812                    2   10   \n",
       "2              21             363            8973                    2   10   \n",
       "3              22             418           10694                    2   10   \n",
       "4              11             131            1488                    3   30   \n",
       "\n",
       "   area_percentage  height_percentage  has_superstructure_adobe_mud  \\\n",
       "0                6                  5                             1   \n",
       "1                8                  7                             0   \n",
       "2                5                  5                             0   \n",
       "3                6                  5                             0   \n",
       "4                8                  9                             1   \n",
       "\n",
       "   has_superstructure_mud_mortar_stone  has_superstructure_stone_flag  ...  \\\n",
       "0                                    1                              0  ...   \n",
       "1                                    1                              0  ...   \n",
       "2                                    1                              0  ...   \n",
       "3                                    1                              0  ...   \n",
       "4                                    0                              0  ...   \n",
       "\n",
       "   has_superstructure_rc_non_engineered  has_superstructure_rc_engineered  \\\n",
       "0                                     0                                 0   \n",
       "1                                     0                                 0   \n",
       "2                                     0                                 0   \n",
       "3                                     0                                 0   \n",
       "4                                     0                                 0   \n",
       "\n",
       "   has_superstructure_other  count_families  geo_level_1_id_sum  \\\n",
       "0                         0               1               24381   \n",
       "1                         0               1               19080   \n",
       "2                         0               1               14889   \n",
       "3                         0               1                6252   \n",
       "4                         0               1                8220   \n",
       "\n",
       "   geo_level_2_id_sum  geo_level_3_id_sum  geo_level_1_per_mud_mortar_stone  \\\n",
       "0                 270                  37                                 6   \n",
       "1                 199                  16                                 8   \n",
       "2                1760                 136                                21   \n",
       "3                 205                  31                                22   \n",
       "4                1038                 122                                 0   \n",
       "\n",
       "   geo_level_1_sum_per_mud_mortar_stone  damage_grade  \n",
       "0                                 24381             3  \n",
       "1                                 19080             2  \n",
       "2                                 14889             3  \n",
       "3                                  6252             2  \n",
       "4                                     0             3  \n",
       "\n",
       "[5 rows x 25 columns]"
      ]
     },
     "execution_count": 3,
     "metadata": {},
     "output_type": "execute_result"
    }
   ],
   "source": [
    "train = pd.read_csv('../Train/train_set_geo_1_per_mortar_stone.csv')\n",
    "\n",
    "train.head()"
   ]
  },
  {
   "cell_type": "code",
   "execution_count": 4,
   "id": "b817f33c",
   "metadata": {},
   "outputs": [],
   "source": [
    "X, y = train.iloc[:,:-1], train.iloc[:,-1]\n",
    "X_train, X_test, y_train, y_test = train_test_split(X, y, test_size=0.2, random_state=123)"
   ]
  },
  {
   "cell_type": "code",
   "execution_count": 15,
   "id": "6df65990",
   "metadata": {},
   "outputs": [],
   "source": [
    "params = {\n",
    "    'boosting_type': ['gbdt'],\n",
    "    'num_leaves': [10, 20, 30],\n",
    "    'max_depth': [10, 20, 50],\n",
    "    'learning_rate': [0.1, 0.01, 0.5],\n",
    "    'n_estimators': [10, 30, 40],\n",
    "    'objective': ['multiclass'],\n",
    "    'random_state': [123],\n",
    "    'silent': [True],\n",
    "    'force_row_wise': [False],\n",
    "    'force_col_wise': [False]\n",
    "}"
   ]
  },
  {
   "cell_type": "code",
   "execution_count": 16,
   "id": "48ef0995",
   "metadata": {},
   "outputs": [
    {
     "data": {
      "text/plain": [
       "GridSearchCV(cv=10, estimator=LGBMClassifier(),\n",
       "             param_grid={'boosting_type': ['gbdt'], 'force_col_wise': [False],\n",
       "                         'force_row_wise': [False],\n",
       "                         'learning_rate': [0.1, 0.01, 0.5],\n",
       "                         'max_depth': [10, 20, 50],\n",
       "                         'n_estimators': [10, 30, 40],\n",
       "                         'num_leaves': [10, 20, 30],\n",
       "                         'objective': ['multiclass'], 'random_state': [123],\n",
       "                         'silent': [True]})"
      ]
     },
     "execution_count": 16,
     "metadata": {},
     "output_type": "execute_result"
    }
   ],
   "source": [
    "opt = GridSearchCV(lgb.LGBMClassifier(), params, cv=10)\n",
    "opt.fit(X_train, y_train)"
   ]
  },
  {
   "cell_type": "code",
   "execution_count": 17,
   "id": "d9e29f4b",
   "metadata": {},
   "outputs": [
    {
     "data": {
      "text/plain": [
       "LGBMClassifier(force_col_wise=False, force_row_wise=False, learning_rate=0.5,\n",
       "               max_depth=20, n_estimators=40, num_leaves=30,\n",
       "               objective='multiclass', random_state=123)"
      ]
     },
     "execution_count": 17,
     "metadata": {},
     "output_type": "execute_result"
    }
   ],
   "source": [
    "opt.best_estimator_"
   ]
  },
  {
   "cell_type": "code",
   "execution_count": 18,
   "id": "27442b45",
   "metadata": {},
   "outputs": [
    {
     "name": "stdout",
     "output_type": "stream",
     "text": [
      "F-Mean Score: 0.725754\n"
     ]
    }
   ],
   "source": [
    "preds = opt.predict(X_test)\n",
    "f1 = f1_score(y_test, preds, average='micro')\n",
    "print(\"F-Mean Score: %f\" % (f1))"
   ]
  },
  {
   "cell_type": "code",
   "execution_count": 20,
   "id": "add83596",
   "metadata": {},
   "outputs": [
    {
     "name": "stdout",
     "output_type": "stream",
     "text": [
      "F1-Mean Score 0.725754\n"
     ]
    }
   ],
   "source": [
    "lgb_model = lgb.LGBMClassifier(force_col_wise=False, force_row_wise=False, learning_rate=0.5,\n",
    "               max_depth=20, n_estimators=40, num_leaves=30,\n",
    "               objective='multiclass', random_state=123)\n",
    "lgb_model.fit(X_train, y_train)\n",
    "preds = lgb_model.predict(X_test)\n",
    "f1 = f1_score(y_test, preds, average='micro'),\n",
    "print(\"F1-Mean Score %f\" % (f1))"
   ]
  },
  {
   "cell_type": "code",
   "execution_count": 21,
   "id": "37cb08cd",
   "metadata": {},
   "outputs": [
    {
     "data": {
      "image/png": "[encoded data removed]",
      "text/plain": [
       "<Figure size 864x720 with 1 Axes>"
      ]
     },
     "metadata": {
      "needs_background": "light"
     },
     "output_type": "display_data"
    }
   ],
   "source": [
    "plt.figure(figsize=(12, 10))\n",
    "plt.bar(X_train.columns, lgb_model.feature_importances_)\n",
    "plt.xticks(rotation=90)\n",
    "plt.xlabel('Features')\n",
    "plt.ylabel('Importancia')\n",
    "plt.title('Importancia')\n",
    "plt.show()"
   ]
  }
 ],
 "metadata": {
  "kernelspec": {
   "display_name": "Python 3.9.3 64-bit",
   "language": "python",
   "name": "python39364bit93f6480a72a64c4f858b7191a2f4e430"
  },
  "language_info": {
   "codemirror_mode": {
    "name": "ipython",
    "version": 3
   },
   "file_extension": ".py",
   "mimetype": "text/x-python",
   "name": "python",
   "nbconvert_exporter": "python",
   "pygments_lexer": "ipython3",
   "version": "3.9.6"
  }
 },
 "nbformat": 4,
 "nbformat_minor": 5
}
