{
 "cells": [
  {
   "cell_type": "code",
   "execution_count": 1,
   "id": "7bf79734",
   "metadata": {},
   "outputs": [],
   "source": [
    "import pandas as pd\n",
    "import numpy as np\n",
    "import matplotlib.pyplot as plt\n",
    "%matplotlib inline"
   ]
  },
  {
   "cell_type": "code",
   "execution_count": 2,
   "id": "c9cb82f6-3594-444b-a033-b215ac9e8f1a",
   "metadata": {},
   "outputs": [],
   "source": [
    "labels = pd.read_csv(\"../train_labels.csv\")\n",
    "values = pd.read_csv(\"../train_values.csv\")"
   ]
  },
  {
   "cell_type": "code",
   "execution_count": null,
   "id": "8da0d16a-b0be-4a44-8d1f-326024af045d",
   "metadata": {},
   "outputs": [],
   "source": [
    "labels.head(10)"
   ]
  },
  {
   "cell_type": "code",
   "execution_count": null,
   "id": "58e918d5-9480-466d-a91d-462e27cd3f8f",
   "metadata": {},
   "outputs": [],
   "source": [
    "values.head(10)"
   ]
  },
  {
   "cell_type": "code",
   "execution_count": null,
   "id": "60792131-2993-413c-8912-5d9ddfcfbd1e",
   "metadata": {},
   "outputs": [],
   "source": [
    "values.info()"
   ]
  },
  {
   "cell_type": "code",
   "execution_count": null,
   "id": "b05d7e21-82c0-4a00-8d3a-303ffcc0d355",
   "metadata": {},
   "outputs": [],
   "source": [
    "values.shape"
   ]
  },
  {
   "cell_type": "code",
   "execution_count": null,
   "id": "16f4a5d5-4f6b-45fb-85d1-5fb81d6d7db2",
   "metadata": {},
   "outputs": [],
   "source": [
    "values['geo_level_1_id'].value_counts()"
   ]
  },
  {
   "cell_type": "code",
   "execution_count": null,
   "id": "ab595f31-815a-4722-a341-2fd1b1e454ca",
   "metadata": {},
   "outputs": [],
   "source": [
    "values['geo_level_2_id'].value_counts()"
   ]
  },
  {
   "cell_type": "code",
   "execution_count": null,
   "id": "8f4f8b96-c546-4af1-a150-3029af164f80",
   "metadata": {},
   "outputs": [],
   "source": [
    "values['geo_level_3_id'].value_counts()"
   ]
  },
  {
   "cell_type": "code",
   "execution_count": null,
   "id": "1c533a51-ed7d-47be-b470-ed8a4ace7fee",
   "metadata": {},
   "outputs": [],
   "source": [
    "values['count_floors_pre_eq'].value_counts()"
   ]
  },
  {
   "cell_type": "code",
   "execution_count": null,
   "id": "ba093ae6-0dfc-44c9-a5c2-81023a404463",
   "metadata": {},
   "outputs": [],
   "source": [
    "values['age'].value_counts()"
   ]
  },
  {
   "cell_type": "code",
   "execution_count": null,
   "id": "a1670575-4880-4be8-b224-79ba973b695a",
   "metadata": {},
   "outputs": [],
   "source": []
  },
  {
   "cell_type": "code",
   "execution_count": null,
   "id": "968adffa-aa78-40ef-a088-2ac22dba269b",
   "metadata": {},
   "outputs": [],
   "source": []
  },
  {
   "cell_type": "code",
   "execution_count": null,
   "id": "fdc6dcc5-1f11-409d-8ada-ad31e49a2e85",
   "metadata": {},
   "outputs": [],
   "source": []
  }
 ],
 "metadata": {
  "kernelspec": {
   "display_name": "Python 3",
   "language": "python",
   "name": "python3"
  },
  "language_info": {
   "codemirror_mode": {
    "name": "ipython",
    "version": 3
   },
   "file_extension": ".py",
   "mimetype": "text/x-python",
   "name": "python",
   "nbconvert_exporter": "python",
   "pygments_lexer": "ipython3",
   "version": "3.9.4"
  }
 },
 "nbformat": 4,
 "nbformat_minor": 5
}
